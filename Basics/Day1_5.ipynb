{
  "cells": [
    {
      "cell_type": "markdown",
      "source": "**Day 1 - Band Name Generator**",
      "metadata": {
        "tags": [],
        "cell_id": "00002-eae8e191-1263-498f-9aef-e17683e74679",
        "deepnote_cell_type": "markdown"
      }
    },
    {
      "cell_type": "code",
      "metadata": {
        "tags": [],
        "cell_id": "00000-d2950454-f88c-41b4-a86a-1306a66cd9f7",
        "deepnote_to_be_reexecuted": false,
        "source_hash": "c7b97e2",
        "execution_millis": 25541,
        "execution_start": 1613473348699,
        "deepnote_cell_type": "code"
      },
      "source": "print(\"Welcome to the Band Name Generator\")\n\ncity = input(\"Which city did you grow up in? \\n\")\npet = input (\"What is the name of a pet? \\n\")\nprint(\"Your band name could be \" +city +\" \" + pet)",
      "execution_count": null,
      "outputs": [
        {
          "name": "stdout",
          "text": "Welcome to the Band Name Generator\nYour band name could be Ondo Roger\n",
          "output_type": "stream"
        }
      ]
    },
    {
      "cell_type": "markdown",
      "source": "**Day 2 - Tip Calculator**",
      "metadata": {
        "tags": [],
        "cell_id": "00002-c945911c-cd8b-4b62-b403-dff91e2a3a8b",
        "deepnote_cell_type": "markdown"
      }
    },
    {
      "cell_type": "code",
      "metadata": {
        "tags": [],
        "cell_id": "00001-5b069557-c777-4999-be99-39d6736fee45",
        "deepnote_to_be_reexecuted": false,
        "source_hash": "a624a47b",
        "execution_millis": 18860,
        "execution_start": 1613474426507,
        "deepnote_cell_type": "code"
      },
      "source": "print(\"Welcome to Tip Calculator\")\n\nTotal_bill = float(input(\"What was the total bill? $\"))\ntip = int(input(\"What percentage tip would you like to give? 10, 12, or 15?\"))\npeople = int(input(\"How many people to split the bill?\"))\n\npayment = (Total_bill * (1+(tip/100)))/people\npay = \"{:.2f}\".format(payment)\nprint(f\"Each Person should pay: ${pay}\")",
      "execution_count": null,
      "outputs": [
        {
          "name": "stdout",
          "text": "Welcome to Tip Calculator\nEach Person should pay: $6874.84\n",
          "output_type": "stream"
        }
      ]
    },
    {
      "cell_type": "markdown",
      "source": "**Day-3 Treasure Island game**",
      "metadata": {
        "tags": [],
        "cell_id": "00004-59f77d02-72df-4ca5-9aeb-f2c9c3bf2f90",
        "deepnote_cell_type": "markdown"
      }
    },
    {
      "cell_type": "code",
      "metadata": {
        "tags": [],
        "cell_id": "00005-c352431d-803e-48c6-8f32-62ea1b8401fe",
        "deepnote_to_be_reexecuted": false,
        "source_hash": "d420b174",
        "execution_millis": 21464,
        "execution_start": 1618241543089,
        "deepnote_cell_type": "code"
      },
      "source": "print('''\naaaaaaaaaaaaaaaaaaaaaaaaaaaaaaaaaaaaaaaaaaaaaaaaaaaaaaaaaaaaaaaaaaaaa   a\n8   8               8               8           8                   8   8\n8   8   aaaaaaaaa   8   aaaaa   aaaa8aaaa   aaaa8   aaaaa   aaaaa   8   8\n8               8       8   8           8           8   8   8       8   8\n8aaaaaaaa   a   8aaaaaaa8   8aaaaaaaa   8aaaa   a   8   8   8aaaaaaa8   8\n8       8   8               8           8   8   8   8   8           8   8\n8   a   8aaa8aaaaaaaa   a   8   aaaaaaaa8   8aaa8   8   8aaaaaaaa   8   8\n8   8               8   8   8       8           8           8       8   8\n8   8aaaaaaaaaaaa   8aaa8   8aaaa   8   aaaaa   8aaaaaaaa   8   aaaa8   8\n8           8       8   8       8   8       8           8   8           8\n8   aaaaa   8aaaa   8   8aaaa   8   8aaaaaaa8   a   a   8   8aaaaaaaaaaa8\n8       8       8   8   8       8       8       8   8   8       8       8\n8aaaaaaa8aaaa   8   8   8   aaaa8aaaa   8   aaaa8   8   8aaaa   8aaaa   8\n8           8   8           8       8   8       8   8       8           8\n8   aaaaa   8   8aaaaaaaa   8aaaa   8   8aaaa   8aaa8   aaaa8aaaaaaaa   8\n8   8       8           8           8       8   8   8               8   8\n8   8   aaaa8aaaa   a   8aaaa   aaaa8aaaa   8   8   8aaaaaaaaaaaa   8   8\n8   8           8   8   8   8   8           8               8   8       8\n8   8aaaaaaaa   8   8   8   8aaa8   8aaaaaaa8   aaaaaaaaa   8   8aaaaaaa8\n8   8       8   8   8           8           8   8       8               8\n8   8   aaaa8   8aaa8   aaaaa   8aaaaaaaa   8aaa8   a   8aaaaaaaa   a   8\n8   8                   8           8               8               8   8\n8   8aaaaaaaaaaaaaaaaaaa8aaaaaaaaaaa8aaaaaaaaaaaaaaa8aaaaaaaaaaaaaaa8aaa8\n\n''')\n\nprint(\"WELCOME TO TREASURE ISLAND\")\nprint('Your mission is to find the treasure!')\nprint('------------------------------------------')\nchoice1 = input('You\\'re at a cross road. Where do you want to go? Type \"left\" or \"right\" \\n').lower()\nif choice1 == \"left\":\n    choice2 = input('You\\'ve come to a lake. There is an island in the middle of the lake. Type \"wait\" to wait for a boat. Type \"swim\" to swim across. \\n').lower()\n    if choice2 == 'wait':\n        choice3 = input(\"You arrive at the island unharmed. There is a house with 3 doors. One red, one yellow and one blue. Which colour do you choose? \\n\").lower()\n        if choice3 == 'red':\n            print(\"It's a room full of fire. Game Over.\")\n        elif choice3 == 'yellow':\n            print('You found the treasure! You Win!')\n        elif choice3 == \"blue\":\n            print(\"You enter a room of beasts. Game Over.\")\n        else:\n            print(\"You chose a door that doesn't exist. Game Over.\")\n    else:\n        print(\"You get attacked by an angry trout. Game Over.\")\nelse:\n  print(\"You fell into a hole. Game Over.\")\n\n",
      "execution_count": 10,
      "outputs": [
        {
          "name": "stdout",
          "text": "\naaaaaaaaaaaaaaaaaaaaaaaaaaaaaaaaaaaaaaaaaaaaaaaaaaaaaaaaaaaaaaaaaaaaa   a\n8   8               8               8           8                   8   8\n8   8   aaaaaaaaa   8   aaaaa   aaaa8aaaa   aaaa8   aaaaa   aaaaa   8   8\n8               8       8   8           8           8   8   8       8   8\n8aaaaaaaa   a   8aaaaaaa8   8aaaaaaaa   8aaaa   a   8   8   8aaaaaaa8   8\n8       8   8               8           8   8   8   8   8           8   8\n8   a   8aaa8aaaaaaaa   a   8   aaaaaaaa8   8aaa8   8   8aaaaaaaa   8   8\n8   8               8   8   8       8           8           8       8   8\n8   8aaaaaaaaaaaa   8aaa8   8aaaa   8   aaaaa   8aaaaaaaa   8   aaaa8   8\n8           8       8   8       8   8       8           8   8           8\n8   aaaaa   8aaaa   8   8aaaa   8   8aaaaaaa8   a   a   8   8aaaaaaaaaaa8\n8       8       8   8   8       8       8       8   8   8       8       8\n8aaaaaaa8aaaa   8   8   8   aaaa8aaaa   8   aaaa8   8   8aaaa   8aaaa   8\n8           8   8           8       8   8       8   8       8           8\n8   aaaaa   8   8aaaaaaaa   8aaaa   8   8aaaa   8aaa8   aaaa8aaaaaaaa   8\n8   8       8           8           8       8   8   8               8   8\n8   8   aaaa8aaaa   a   8aaaa   aaaa8aaaa   8   8   8aaaaaaaaaaaa   8   8\n8   8           8   8   8   8   8           8               8   8       8\n8   8aaaaaaaa   8   8   8   8aaa8   8aaaaaaa8   aaaaaaaaa   8   8aaaaaaa8\n8   8       8   8   8           8           8   8       8               8\n8   8   aaaa8   8aaa8   aaaaa   8aaaaaaaa   8aaa8   a   8aaaaaaaa   a   8\n8   8                   8           8               8               8   8\n8   8aaaaaaaaaaaaaaaaaaa8aaaaaaaaaaa8aaaaaaaaaaaaaaa8aaaaaaaaaaaaaaa8aaa8\n\n\nWELCOME TO TREASURE ISLAND\nYour mission is to find the treasure!\n------------------------------------------\nYou found the treasure! You Win!\n",
          "output_type": "stream"
        }
      ]
    },
    {
      "cell_type": "markdown",
      "source": "**Day 4a Treasure Map**",
      "metadata": {
        "tags": [],
        "cell_id": "00006-e974cb5a-bfef-46fe-9928-beb02ad2b895",
        "deepnote_cell_type": "markdown"
      }
    },
    {
      "cell_type": "code",
      "source": "row1 = [\"⬜️\",\"⬜️\",\"⬜️\"]\nrow2 = [\"⬜️\",\"⬜️\",\"⬜️\"]\nrow3 = [\"⬜️\",\"⬜️\",\"⬜️\"]\nmap = [row1, row2, row3]\nprint(f\"{row1}\\n{row2}\\n{row3}\")",
      "metadata": {
        "tags": [],
        "cell_id": "00007-6aeeb2fd-004b-4d80-825b-598292bc0ea8",
        "deepnote_to_be_reexecuted": false,
        "source_hash": "8bc616ff",
        "execution_start": 1618247398170,
        "execution_millis": 16,
        "deepnote_cell_type": "code"
      },
      "outputs": [
        {
          "name": "stdout",
          "text": "['⬜️', '⬜️', '⬜️']\n['⬜️', '⬜️', '⬜️']\n['⬜️', '⬜️', '⬜️']\n",
          "output_type": "stream"
        }
      ],
      "execution_count": 18
    },
    {
      "cell_type": "code",
      "source": "position = input('Where do you want to put the treasure? ')\n\nhor = int(position[0])\nvert = int(position[1])\n\nmap[vert-1][hor-1] = 'X*'\nprint(f\"{row1}\\n{row2}\\n{row3}\")",
      "metadata": {
        "tags": [],
        "cell_id": "00008-ffdbd849-a846-4288-bd3d-302d45eee8d0",
        "deepnote_to_be_reexecuted": false,
        "source_hash": "373f38f5",
        "execution_start": 1618247932998,
        "execution_millis": 10370,
        "deepnote_cell_type": "code"
      },
      "outputs": [
        {
          "name": "stdout",
          "text": "['⬜️', '⬜️', '⬜️']\n['⬜️', '⬜️', 'X*']\n['⬜️', '⬜️', '⬜️']\n",
          "output_type": "stream"
        }
      ],
      "execution_count": 19
    },
    {
      "cell_type": "markdown",
      "source": "**Day 4b Rock Paper Scissors**",
      "metadata": {
        "tags": [],
        "cell_id": "00006-7698ef6c-ca01-4faa-beba-8bd3686b5068",
        "deepnote_cell_type": "markdown"
      }
    },
    {
      "cell_type": "code",
      "metadata": {
        "tags": [],
        "cell_id": "00008-7a37a076-b4f8-479e-bf46-cb2e39b9b9b3",
        "deepnote_to_be_reexecuted": false,
        "source_hash": "45148641",
        "execution_millis": 9,
        "execution_start": 1618242685878,
        "deepnote_cell_type": "code"
      },
      "source": "import random\n\nrand_integer = random.randint(0,1)\nif rand_integer == 1:\n    print('Head')\nelse: \n    print('Tail')\n\n\n",
      "execution_count": 17,
      "outputs": [
        {
          "name": "stdout",
          "text": "Tail\n",
          "output_type": "stream"
        }
      ]
    },
    {
      "cell_type": "code",
      "source": "#Rock paper scissors\n#Rock wins against scissors\n#Scissors wins against paper\n#Paper wins against rock\n\n\n\n\n\nrock = '''\n    _______\n---'   ____)\n      (_____)\n      (_____)\n      (____)\n---.__(___)\n'''\n\npaper = '''\n    _______\n---'   ____)____\n          ______)\n          _______)\n         _______)\n---.__________)\n'''\n\nscissors = '''\n    _______\n---'   ____)____\n          ______)\n       __________)\n      (____)\n---.__(___)\n'''\n\ngame_images = [rock, paper, scissors]\n\nuser_choice = int(input(\"What do you choose? Type 0 for Rock, 1 for Paper or 2 for Scissors.\\n\"))\n\n\nif user_choice >= 3 or user_choice < 0: \n    print(\"You typed an invalid number, you lose!\")\nelse:\n    print(game_images[user_choice])\n\ncomputer_choice = random.randint(0, 2)\nprint(\"Computer chose:\")\nprint(game_images[computer_choice])\n\nif user_choice == 0 and computer_choice == 2:\n    print(\"You win!\")\nelif computer_choice == 0 and user_choice == 2:\n    print(\"You lose\")\nelif computer_choice > user_choice:\n    print(\"You lose\")\nelif user_choice > computer_choice:\n    print(\"You win!\")\nelif computer_choice == user_choice:\n    print(\"It's a draw\")\n\n",
      "metadata": {
        "tags": [],
        "cell_id": "00011-9e4a76f7-938c-45cb-acb7-740450c3c808",
        "deepnote_to_be_reexecuted": false,
        "source_hash": null,
        "execution_millis": 15038,
        "output_cleared": false,
        "execution_start": 1618253410544,
        "deepnote_cell_type": "code"
      },
      "outputs": [
        {
          "name": "stdout",
          "text": "\n    _______\n---'   ____)____\n          ______)\n       __________)\n      (____)\n---.__(___)\n\nComputer chose:\n\n    _______\n---'   ____)____\n          ______)\n       __________)\n      (____)\n---.__(___)\n\nIt's a draw\n",
          "output_type": "stream"
        }
      ],
      "execution_count": 24
    },
    {
      "cell_type": "code",
      "metadata": {
        "tags": [],
        "cell_id": "00004-c77fe953-8223-47d7-b7fb-0be0660ec112",
        "deepnote_cell_type": "code"
      },
      "source": "#BMI Calculator",
      "execution_count": null,
      "outputs": []
    },
    {
      "cell_type": "markdown",
      "source": "<a style='text-decoration:none;line-height:16px;display:flex;color:#5B5B62;padding:10px;justify-content:end;' href='https://deepnote.com?utm_source=created-in-deepnote-cell&projectId=6318c23d-87a2-4218-9b15-13cbad2f6dd9' target=\"_blank\">\n<img alt='Created in deepnote.com' style='display:inline;max-height:16px;margin:0px;margin-right:7.5px;' src='data:image/svg+xml;base64,PD94bWwgdmVyc2lvbj0iMS4wIiBlbmNvZGluZz0iVVRGLTgiPz4KPHN2ZyB3aWR0aD0iODBweCIgaGVpZ2h0PSI4MHB4IiB2aWV3Qm94PSIwIDAgODAgODAiIHZlcnNpb249IjEuMSIgeG1sbnM9Imh0dHA6Ly93d3cudzMub3JnLzIwMDAvc3ZnIiB4bWxuczp4bGluaz0iaHR0cDovL3d3dy53My5vcmcvMTk5OS94bGluayI+CiAgICA8IS0tIEdlbmVyYXRvcjogU2tldGNoIDU0LjEgKDc2NDkwKSAtIGh0dHBzOi8vc2tldGNoYXBwLmNvbSAtLT4KICAgIDx0aXRsZT5Hcm91cCAzPC90aXRsZT4KICAgIDxkZXNjPkNyZWF0ZWQgd2l0aCBTa2V0Y2guPC9kZXNjPgogICAgPGcgaWQ9IkxhbmRpbmciIHN0cm9rZT0ibm9uZSIgc3Ryb2tlLXdpZHRoPSIxIiBmaWxsPSJub25lIiBmaWxsLXJ1bGU9ImV2ZW5vZGQiPgogICAgICAgIDxnIGlkPSJBcnRib2FyZCIgdHJhbnNmb3JtPSJ0cmFuc2xhdGUoLTEyMzUuMDAwMDAwLCAtNzkuMDAwMDAwKSI+CiAgICAgICAgICAgIDxnIGlkPSJHcm91cC0zIiB0cmFuc2Zvcm09InRyYW5zbGF0ZSgxMjM1LjAwMDAwMCwgNzkuMDAwMDAwKSI+CiAgICAgICAgICAgICAgICA8cG9seWdvbiBpZD0iUGF0aC0yMCIgZmlsbD0iIzAyNjVCNCIgcG9pbnRzPSIyLjM3NjIzNzYyIDgwIDM4LjA0NzY2NjcgODAgNTcuODIxNzgyMiA3My44MDU3NTkyIDU3LjgyMTc4MjIgMzIuNzU5MjczOSAzOS4xNDAyMjc4IDMxLjY4MzE2ODMiPjwvcG9seWdvbj4KICAgICAgICAgICAgICAgIDxwYXRoIGQ9Ik0zNS4wMDc3MTgsODAgQzQyLjkwNjIwMDcsNzYuNDU0OTM1OCA0Ny41NjQ5MTY3LDcxLjU0MjI2NzEgNDguOTgzODY2LDY1LjI2MTk5MzkgQzUxLjExMjI4OTksNTUuODQxNTg0MiA0MS42NzcxNzk1LDQ5LjIxMjIyODQgMjUuNjIzOTg0Niw0OS4yMTIyMjg0IEMyNS40ODQ5Mjg5LDQ5LjEyNjg0NDggMjkuODI2MTI5Niw0My4yODM4MjQ4IDM4LjY0NzU4NjksMzEuNjgzMTY4MyBMNzIuODcxMjg3MSwzMi41NTQ0MjUgTDY1LjI4MDk3Myw2Ny42NzYzNDIxIEw1MS4xMTIyODk5LDc3LjM3NjE0NCBMMzUuMDA3NzE4LDgwIFoiIGlkPSJQYXRoLTIyIiBmaWxsPSIjMDAyODY4Ij48L3BhdGg+CiAgICAgICAgICAgICAgICA8cGF0aCBkPSJNMCwzNy43MzA0NDA1IEwyNy4xMTQ1MzcsMC4yNTcxMTE0MzYgQzYyLjM3MTUxMjMsLTEuOTkwNzE3MDEgODAsMTAuNTAwMzkyNyA4MCwzNy43MzA0NDA1IEM4MCw2NC45NjA0ODgyIDY0Ljc3NjUwMzgsNzkuMDUwMzQxNCAzNC4zMjk1MTEzLDgwIEM0Ny4wNTUzNDg5LDc3LjU2NzA4MDggNTMuNDE4MjY3Nyw3MC4zMTM2MTAzIDUzLjQxODI2NzcsNTguMjM5NTg4NSBDNTMuNDE4MjY3Nyw0MC4xMjg1NTU3IDM2LjMwMzk1NDQsMzcuNzMwNDQwNSAyNS4yMjc0MTcsMzcuNzMwNDQwNSBDMTcuODQzMDU4NiwzNy43MzA0NDA1IDkuNDMzOTE5NjYsMzcuNzMwNDQwNSAwLDM3LjczMDQ0MDUgWiIgaWQ9IlBhdGgtMTkiIGZpbGw9IiMzNzkzRUYiPjwvcGF0aD4KICAgICAgICAgICAgPC9nPgogICAgICAgIDwvZz4KICAgIDwvZz4KPC9zdmc+' > </img>\nCreated in <span style='font-weight:600;margin-left:4px;'>Deepnote</span></a>",
      "metadata": {
        "tags": [],
        "created_in_deepnote_cell": true,
        "deepnote_cell_type": "markdown"
      }
    }
  ],
  "nbformat": 4,
  "nbformat_minor": 2,
  "metadata": {
    "orig_nbformat": 2,
    "deepnote_notebook_id": "7c1a7c1a-e46e-42da-a68e-fcf987f8653d",
    "deepnote": {},
    "deepnote_execution_queue": []
  }
}